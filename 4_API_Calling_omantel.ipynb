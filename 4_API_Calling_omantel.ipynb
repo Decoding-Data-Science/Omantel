{
  "nbformat": 4,
  "nbformat_minor": 0,
  "metadata": {
    "colab": {
      "provenance": [],
      "name": "4-API-Calling-omantel.ipynb",
      "authorship_tag": "ABX9TyNmYVyqQq/D0fFdnbyuN6+8",
      "include_colab_link": true
    },
    "kernelspec": {
      "name": "python3",
      "display_name": "Python 3"
    },
    "language_info": {
      "name": "python"
    }
  },
  "cells": [
    {
      "cell_type": "markdown",
      "metadata": {
        "id": "view-in-github",
        "colab_type": "text"
      },
      "source": [
        "<a href=\"https://colab.research.google.com/github/Decoding-Data-Science/Omantel/blob/main/4_API_Calling_omantel.ipynb\" target=\"_parent\"><img src=\"https://colab.research.google.com/assets/colab-badge.svg\" alt=\"Open In Colab\"/></a>"
      ]
    },
    {
      "cell_type": "code",
      "source": [
        "pip install requests"
      ],
      "metadata": {
        "colab": {
          "base_uri": "https://localhost:8080/"
        },
        "id": "ymGssEbJi8NG",
        "outputId": "f100a559-f57e-448b-856f-6dbff5971f79",
        "collapsed": true
      },
      "execution_count": null,
      "outputs": [
        {
          "output_type": "stream",
          "name": "stdout",
          "text": [
            "Requirement already satisfied: requests in /usr/local/lib/python3.12/dist-packages (2.32.4)\n",
            "Requirement already satisfied: charset_normalizer<4,>=2 in /usr/local/lib/python3.12/dist-packages (from requests) (3.4.3)\n",
            "Requirement already satisfied: idna<4,>=2.5 in /usr/local/lib/python3.12/dist-packages (from requests) (3.10)\n",
            "Requirement already satisfied: urllib3<3,>=1.21.1 in /usr/local/lib/python3.12/dist-packages (from requests) (2.5.0)\n",
            "Requirement already satisfied: certifi>=2017.4.17 in /usr/local/lib/python3.12/dist-packages (from requests) (2025.8.3)\n"
          ]
        }
      ]
    },
    {
      "cell_type": "markdown",
      "source": [
        "1. Setting up Autorization\n",
        "2. add the end point url\n",
        "3. add the body"
      ],
      "metadata": {
        "id": "cJtje7nQAd0y"
      }
    },
    {
      "cell_type": "code",
      "source": [
        "import os\n",
        "\n",
        "from google.colab import userdata\n",
        "\n",
        "\n",
        "groq_api_key = userdata.get(\"GROQ_API_KEY\")"
      ],
      "metadata": {
        "id": "0dtGEaeQlA5v"
      },
      "execution_count": null,
      "outputs": []
    },
    {
      "cell_type": "markdown",
      "source": [],
      "metadata": {
        "id": "u2IQHrjCmHiO"
      }
    },
    {
      "cell_type": "code",
      "execution_count": null,
      "metadata": {
        "colab": {
          "base_uri": "https://localhost:8080/"
        },
        "id": "fnYZupvAV9U9",
        "outputId": "2357412e-e066-46fe-ff34-0fc2092b8444"
      },
      "outputs": [
        {
          "output_type": "stream",
          "name": "stdout",
          "text": [
            "Artificial General Intelligence (AGI) refers to a type of artificial intelligence that possesses the ability to understand, learn, and apply knowledge across a wide range of tasks, similar to human intelligence. It is a hypothetical AI system that can perform any intellectual task that a human being can, at least to the same level of human performance.\n",
            "\n",
            "AGI would be characterized by several key features:\n",
            "\n",
            "1. **Reasoning and Problem-Solving**: AGI would be able to analyze complex problems, identify patterns, and develop novel solutions to complex problems.\n",
            "2. **Learning and Adaptation**: AGI could learn new concepts, relationships, and tasks through experience, and be able to adapt to new situations.\n",
            "3. **Common Sense**: AGI would possess a deep understanding of the world and its implications, similar to human common sense.\n",
            "4. **Creativity and Innovation**: AGI could generate new ideas, products, or solutions that were not previously considered.\n",
            "5. **Human-like reasoning and intelligence**: AGI would be able to think and reason in a way that is similar to how humans do, including understanding language, abstract concepts, and contextual nuances.\n",
            "\n",
            "While we have made significant progress in building narrow or specialized AI systems, such as those that can play specific games or perform certain tasks, we are yet to create truly AGI systems that can perform all tasks that humans can.\n",
            "\n",
            "The development of AGI is highly debated among experts, with some arguing that it is possible and others claiming that it is unlikely or even impossible. The hypothetical AGI system is expected to have a massive impact on various aspects of society, including economy, healthcare, and education.\n",
            "\n",
            "There are different types of AGI, including:\n",
            "\n",
            "1. **Weak AGI**: A hypothetical AI system that can perform a narrow set of tasks but is unable to generalize to other tasks.\n",
            "2. **Strong AGI**: A hypothetical AI system that can perform any intellectual task that a human being can, and can do so with a level of performance that equals or surpasses human capabilities.\n",
            "3. **Superintelligence**: A hypothetical AGI system that significantly surpasses human capabilities in a wide range of tasks and has the ability to improve itself through self-modification.\n"
          ]
        }
      ],
      "source": [
        "import requests\n",
        "\n",
        "# 1 Define the URL for the Groq API endpoint\n",
        "url = \"https://api.groq.com/openai/v1/chat/completions\"\n",
        "\n",
        "#2  Set the headers for the API request\n",
        "headers = {\n",
        "    \"Authorization\": f\"Bearer {groq_api_key}\"\n",
        "}\n",
        "\n",
        "# 3 Define the body for the API request\n",
        "body = {\n",
        "    \"model\": \"llama-3.1-8b-instant\",\n",
        "    \"messages\": [\n",
        "        {\n",
        "            \"role\": \"user\",\n",
        "            \"content\": \"What is artificial general intelligence?\"\n",
        "        }\n",
        "    ]\n",
        "}\n",
        "\n",
        "# Send a POST request to the Groq API\n",
        "response = requests.post(url, headers=headers, json=body)\n",
        "\n",
        "# Check if the request was successful\n",
        "if response.status_code == 200:\n",
        "    print(response.json()['choices'][0]['message']['content'])\n",
        "else:\n",
        "    print(\"Error:\", response.json())\n"
      ]
    },
    {
      "cell_type": "code",
      "source": [
        "import os\n",
        "import requests\n",
        "from google.colab import userdata  # remove this line if not in Colab\n",
        "\n",
        "groq_api_key = userdata.get(\"GROQ_API_KEY\")  # or: os.getenv(\"GROQ_API_KEY\")\n",
        "\n",
        "url = \"https://api.groq.com/openai/v1/chat/completions\"\n",
        "headers = {\n",
        "    \"Authorization\": f\"Bearer {groq_api_key}\",\n",
        "    \"Content-Type\": \"application/json\"\n",
        "}\n",
        "\n",
        "body = {\n",
        "    \"model\": \"llama-3.1-8b-instant\",\n",
        "    \"messages\": [\n",
        "        {\"role\": \"system\", \"content\": \"You are Aisha, a precise, helpful assistant for DDS Academy. Keep answers concise and structured.\"},\n",
        "        {\"role\": \"user\", \"content\": \"What is artificial general intelligence?\"}\n",
        "    ],\n",
        "    # Optional tuning:\n",
        "    \"temperature\": 0.2,\n",
        "    \"max_tokens\": 512\n",
        "}\n",
        "\n",
        "response = requests.post(url, headers=headers, json=body)\n",
        "if response.status_code == 200:\n",
        "    print(response.json()[\"choices\"][0][\"message\"][\"content\"])\n",
        "else:\n",
        "    print(\"Error:\", response.json())\n"
      ],
      "metadata": {
        "colab": {
          "base_uri": "https://localhost:8080/"
        },
        "id": "tFnbqc0Nv9CM",
        "outputId": "ac6f4790-5536-46a1-b485-8e9419ee59e8"
      },
      "execution_count": null,
      "outputs": [
        {
          "output_type": "stream",
          "name": "stdout",
          "text": [
            "**Artificial General Intelligence (AGI)**\n",
            "\n",
            "**Definition:** \n",
            "Artificial General Intelligence (AGI) refers to a hypothetical AI system that possesses the ability to understand, learn, and apply knowledge across a wide range of tasks, similar to human intelligence.\n",
            "\n",
            "**Characteristics:**\n",
            "\n",
            "1. **General Knowledge**: AGI would have a broad understanding of various subjects and domains.\n",
            "2. **Reasoning and Problem-Solving**: AGI would be able to reason, solve complex problems, and make decisions.\n",
            "3. **Learning and Adaptation**: AGI would be able to learn from experience, adapt to new situations, and improve its performance over time.\n",
            "4. **Self-Awareness**: AGI would have a sense of self and be able to understand its own strengths, weaknesses, and limitations.\n",
            "\n",
            "**Goals:**\n",
            "The development of AGI aims to create a system that can perform any intellectual task that a human can, with the potential to revolutionize various fields, including healthcare, education, and technology.\n",
            "\n",
            "**Challenges:**\n",
            "Creating AGI is a complex task that requires significant advances in areas such as natural language processing, computer vision, and cognitive architectures.\n"
          ]
        }
      ]
    },
    {
      "cell_type": "code",
      "source": [
        "pip install gradio"
      ],
      "metadata": {
        "id": "Vu7kb2BOpHxG"
      },
      "execution_count": null,
      "outputs": []
    },
    {
      "cell_type": "code",
      "source": [
        "# Install required packages\n",
        "\n",
        "\n",
        "import os\n",
        "import requests\n",
        "import gradio as gr\n",
        "\n",
        "from google.colab import userdata  # Secure storage for API keys in Colab\n",
        "\n",
        "groq_api_key = userdata.get(\"GROQ_API_KEY\")\n",
        "\n",
        "# Define the URL for the Groq API endpoint\n",
        "url = \"https://api.groq.com/openai/v1/chat/completions\"\n",
        "\n",
        "# Set the headers for the API request\n",
        "headers = {\n",
        "    \"Authorization\": f\"Bearer {groq_api_key}\"\n",
        "}\n",
        "\n",
        "# Function to interact with Groq API\n",
        "def chat_with_groq(user_input):\n",
        "    body = {\n",
        "        \"model\": \"llama-3.1-8b-instant\",\n",
        "        \"messages\": [\n",
        "            {\"role\": \"user\", \"content\": user_input}\n",
        "        ]\n",
        "    }\n",
        "\n",
        "    response = requests.post(url, headers=headers, json=body)\n",
        "\n",
        "    if response.status_code == 200:\n",
        "        return response.json()['choices'][0]['message']['content']\n",
        "    else:\n",
        "        return f\"Error: {response.json()}\"\n",
        "\n",
        "# Create Gradio interface\n",
        "interface = gr.Interface(\n",
        "    fn=chat_with_groq,\n",
        "    inputs=gr.Textbox(lines=2, placeholder=\"Ask me anything...\"),\n",
        "    outputs=gr.Textbox(),\n",
        "    title=\"Omantel Chatbot\",\n",
        "    description=\"Type your question below and get a response powered by Groq's Llama 3.1-8B model.\"\n",
        ")\n",
        "\n",
        "# Launch Gradio app\n",
        "interface.launch()\n"
      ],
      "metadata": {
        "colab": {
          "base_uri": "https://localhost:8080/",
          "height": 645
        },
        "id": "D627mfvelNaO",
        "outputId": "ce6863f9-d758-4b75-b593-e0d526bac64f"
      },
      "execution_count": null,
      "outputs": [
        {
          "output_type": "stream",
          "name": "stdout",
          "text": [
            "It looks like you are running Gradio on a hosted Jupyter notebook, which requires `share=True`. Automatically setting `share=True` (you can turn this off by setting `share=False` in `launch()` explicitly).\n",
            "\n",
            "Colab notebook detected. To show errors in colab notebook, set debug=True in launch()\n",
            "* Running on public URL: https://3b8a4f1f3d13823818.gradio.live\n",
            "\n",
            "This share link expires in 1 week. For free permanent hosting and GPU upgrades, run `gradio deploy` from the terminal in the working directory to deploy to Hugging Face Spaces (https://huggingface.co/spaces)\n"
          ]
        },
        {
          "output_type": "display_data",
          "data": {
            "text/plain": [
              "<IPython.core.display.HTML object>"
            ],
            "text/html": [
              "<div><iframe src=\"https://3b8a4f1f3d13823818.gradio.live\" width=\"100%\" height=\"500\" allow=\"autoplay; camera; microphone; clipboard-read; clipboard-write;\" frameborder=\"0\" allowfullscreen></iframe></div>"
            ]
          },
          "metadata": {}
        },
        {
          "output_type": "execute_result",
          "data": {
            "text/plain": []
          },
          "metadata": {},
          "execution_count": 5
        }
      ]
    },
    {
      "cell_type": "code",
      "source": [
        "#for hugging face  u need to set env seperately and save a app.py file\n",
        "\n",
        "import os\n",
        "import requests\n",
        "import gradio as gr\n",
        "\n",
        "# Retrieve the API key from the environment variable\n",
        "groq_api_key = os.getenv(\"GROQ_API_KEY\")\n",
        "\n",
        "\n",
        "# Define the API endpoint and headers\n",
        "url = \"https://api.groq.com/openai/v1/chat/completions\"\n",
        "headers = {\"Authorization\": f\"Bearer {groq_api_key}\"}\n",
        "\n",
        "# Function to interact with Groq API\n",
        "def chat_with_groq(user_input):\n",
        "    body = {\n",
        "        \"model\": \"llama-3.1-8b-instant\",\n",
        "        \"messages\": [{\"role\": \"user\", \"content\": user_input}]\n",
        "    }\n",
        "\n",
        "    response = requests.post(url, headers=headers, json=body)\n",
        "\n",
        "    if response.status_code == 200:\n",
        "        return response.json()['choices'][0]['message']['content']\n",
        "    else:\n",
        "        return f\"Error: {response.json()}\"\n",
        "\n",
        "# Create Gradio interface\n",
        "interface = gr.Interface(\n",
        "    fn=chat_with_groq,\n",
        "    inputs=gr.Textbox(lines=2, placeholder=\"Ask me anything...\"),\n",
        "    outputs=gr.Textbox(),\n",
        "    title=\"Chat with Groq AI (Llama 3.1-8B)\",\n",
        "    description=\"Type your question below and get a response powered by Groq's Llama 3.1-8B model.\"\n",
        ")\n",
        "\n",
        "# Launch Gradio app\n",
        "if __name__ == \"__main__\":\n",
        "    interface.launch()\n",
        "\n"
      ],
      "metadata": {
        "id": "M0o0K7pXnZKh"
      },
      "execution_count": null,
      "outputs": []
    },
    {
      "cell_type": "code",
      "source": [
        "##prompt template\n",
        "\n",
        "\n",
        "import os\n",
        "import requests\n",
        "from google.colab import userdata  # Secure storage for API keys in Colab\n",
        "\n",
        "# Get the Groq API key securely (use userdata in Colab)\n",
        "groq_api_key = userdata.get(\"GROQ_API_KEY\")  # Store using: userdata.set(\"GROQ_API_KEY\", \"your_api_key\")\n",
        "\n",
        "if not groq_api_key:\n",
        "    raise ValueError(\"GROQ_API_KEY not found! Set it using userdata.set('GROQ_API_KEY', 'your_api_key')\")\n",
        "\n",
        "# Define the Groq API endpoint\n",
        "url = \"https://api.groq.com/openai/v1/chat/completions\"\n",
        "\n",
        "# Set headers for the API request\n",
        "headers = {\n",
        "    \"Authorization\": f\"Bearer {groq_api_key}\"\n",
        "}\n",
        "\n",
        "# Define a prompt template\n",
        "prompt_template = \"\"\"You are a helpful assistant with expertise in Telecomunication\n",
        "User Query: {query}\n",
        "Please provide a detailed, beginner-friendly response.\"\"\"\n",
        "\n",
        "# Function to generate a response using the Groq API\n",
        "def ask_groq(query):\n",
        "    prompt = prompt_template.format(query=query)\n",
        "\n",
        "    body = {\n",
        "        \"model\": \"llama-3.1-8b-instant\",\n",
        "        \"messages\": [\n",
        "            {\n",
        "                \"role\": \"user\",\n",
        "                \"content\": prompt\n",
        "            }\n",
        "        ]\n",
        "    }\n",
        "\n",
        "    response = requests.post(url, headers=headers, json=body)\n",
        "\n",
        "    if response.status_code == 200:\n",
        "        return response.json()['choices'][0]['message']['content']\n",
        "    else:\n",
        "        return f\"Error: {response.status_code} - {response.text}\"\n"
      ],
      "metadata": {
        "id": "kLDq9V35kg5a"
      },
      "execution_count": null,
      "outputs": []
    },
    {
      "cell_type": "code",
      "source": [
        "response_text = ask_groq(\"What is different plans in omantel?\")\n",
        "print(response_text)\n"
      ],
      "metadata": {
        "id": "_YAyF11AlGYQ",
        "outputId": "80943f66-28c2-40b7-e5c6-d479de335648",
        "colab": {
          "base_uri": "https://localhost:8080/"
        }
      },
      "execution_count": null,
      "outputs": [
        {
          "output_type": "stream",
          "name": "stdout",
          "text": [
            "Omantel is a popular telecommunications service provider in Oman, offering a range of plans to suit different needs and budgets. As a helpful assistant, I'd be happy to break down the different plans offered by Omantel into easy-to-understand categories.\n",
            "\n",
            "**1. Prepaid Plans**\n",
            "\n",
            "Prepaid plans are a great option for those who want to pay as they go. With Omantel's prepaid plans, you can top up your credit and use it to make calls, send texts, and access data. Here are a few prepaid plans:\n",
            "\n",
            "- **Daily Plans**: These plans offer a limited amount of internet and calling minutes for a day. For example, the Daily Unlimited Plan costs RO 1 (approximately $2.60 USD) per day and includes 1 GB of data and unlimited minutes.\n",
            "- **Weekly Plans**: These plans offer more data and calling minutes for a week. For example, the Weekly Unlimited Plan costs RO 6 (approximately $15.60 USD) per week and includes 5 GB of data and unlimited minutes.\n",
            "- **Monthly Plans**: These plans offer even more data and calling minutes for a month. For example, the Monthly Unlimited Plan costs RO 25 (approximately $65 USD) per month and includes 15 GB of data and unlimited minutes.\n",
            "\n",
            "**2. Postpaid Plans**\n",
            "\n",
            "Postpaid plans are a good option for those who want a set amount of data and calling minutes per month. With Omantel's postpaid plans, you'll pay a fixed amount each month, and any unused data or calls will be carried over to the next month. Here are a few postpaid plans:\n",
            "\n",
            "- **Standard Postpaid Plans**: These plans offer a set amount of data and calling minutes per month. For example, the Standard Postpaid Plan costs RO 30 (approximately $78 USD) per month and includes 10 GB of data and 200 minutes.\n",
            "- **Unlimited Postpaid Plans**: These plans offer unlimited data, calls, and SMS. For example, the Unlimited Postpaid Plan costs RO 45 (approximately $117 USD) per month and includes unlimited data, calls, and SMS.\n",
            "- **Value Added Service (VAS) Plans**: These plans offer additional services like international calls, data roaming, and more. For example, the VAS Plan costs RO 20 (approximately $52 USD) per month and includes additional data, international calls, and other benefits.\n",
            "\n",
            "**3. Special Plans**\n",
            "\n",
            "Omantel also offers special plans for specific needs or situations, such as:\n",
            "\n",
            "- **Senior Citizen Plan**: This plan offers discounted rates for senior citizens (60+ years old).\n",
            "- **Student Plan**: This plan offers discounted rates for students with a valid student ID.\n",
            "- **Business Plan**: This plan offers customized plans for businesses with high data and calling needs.\n",
            "\n",
            "**4. Bundle Plans**\n",
            "\n",
            "Omantel also offers bundle plans that combine different services, such as:\n",
            "\n",
            "- **Omantel+**: This plan includes a TV package, unlimited data, and a set of calls.\n",
            "- **Omantel+ Extra**: This plan includes a TV package, unlimited data, and a set of calls, plus additional services like international calls and data roaming.\n",
            "\n",
            "These are the main types of plans offered by Omantel. It's always a good idea to check the Omantel website or visit a store to get the latest information and to choose a plan that best suits your needs.\n"
          ]
        }
      ]
    }
  ]
}