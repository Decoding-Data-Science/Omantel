{
  "nbformat": 4,
  "nbformat_minor": 0,
  "metadata": {
    "colab": {
      "provenance": [],
      "authorship_tag": "ABX9TyNv1CQGMrw2+Y9i5TBlYhMd",
      "include_colab_link": true
    },
    "kernelspec": {
      "name": "python3",
      "display_name": "Python 3"
    },
    "language_info": {
      "name": "python"
    }
  },
  "cells": [
    {
      "cell_type": "markdown",
      "metadata": {
        "id": "view-in-github",
        "colab_type": "text"
      },
      "source": [
        "<a href=\"https://colab.research.google.com/github/Decoding-Data-Science/Omantel/blob/main/3.groq_colab_13sep.ipynb\" target=\"_parent\"><img src=\"https://colab.research.google.com/assets/colab-badge.svg\" alt=\"Open In Colab\"/></a>"
      ]
    },
    {
      "cell_type": "code",
      "source": [],
      "metadata": {
        "colab": {
          "base_uri": "https://localhost:8080/"
        },
        "id": "56k-BRqXWFOo",
        "outputId": "d4f45531-3bc4-435f-8934-14cb7ab4b139",
        "collapsed": true
      },
      "execution_count": null,
      "outputs": [
        {
          "output_type": "stream",
          "name": "stdout",
          "text": [
            "Collecting groq\n",
            "  Downloading groq-0.31.0-py3-none-any.whl.metadata (16 kB)\n",
            "Requirement already satisfied: anyio<5,>=3.5.0 in /usr/local/lib/python3.11/dist-packages (from groq) (4.10.0)\n",
            "Requirement already satisfied: distro<2,>=1.7.0 in /usr/local/lib/python3.11/dist-packages (from groq) (1.9.0)\n",
            "Requirement already satisfied: httpx<1,>=0.23.0 in /usr/local/lib/python3.11/dist-packages (from groq) (0.28.1)\n",
            "Requirement already satisfied: pydantic<3,>=1.9.0 in /usr/local/lib/python3.11/dist-packages (from groq) (2.11.7)\n",
            "Requirement already satisfied: sniffio in /usr/local/lib/python3.11/dist-packages (from groq) (1.3.1)\n",
            "Requirement already satisfied: typing-extensions<5,>=4.10 in /usr/local/lib/python3.11/dist-packages (from groq) (4.14.1)\n",
            "Requirement already satisfied: idna>=2.8 in /usr/local/lib/python3.11/dist-packages (from anyio<5,>=3.5.0->groq) (3.10)\n",
            "Requirement already satisfied: certifi in /usr/local/lib/python3.11/dist-packages (from httpx<1,>=0.23.0->groq) (2025.8.3)\n",
            "Requirement already satisfied: httpcore==1.* in /usr/local/lib/python3.11/dist-packages (from httpx<1,>=0.23.0->groq) (1.0.9)\n",
            "Requirement already satisfied: h11>=0.16 in /usr/local/lib/python3.11/dist-packages (from httpcore==1.*->httpx<1,>=0.23.0->groq) (0.16.0)\n",
            "Requirement already satisfied: annotated-types>=0.6.0 in /usr/local/lib/python3.11/dist-packages (from pydantic<3,>=1.9.0->groq) (0.7.0)\n",
            "Requirement already satisfied: pydantic-core==2.33.2 in /usr/local/lib/python3.11/dist-packages (from pydantic<3,>=1.9.0->groq) (2.33.2)\n",
            "Requirement already satisfied: typing-inspection>=0.4.0 in /usr/local/lib/python3.11/dist-packages (from pydantic<3,>=1.9.0->groq) (0.4.1)\n",
            "Downloading groq-0.31.0-py3-none-any.whl (131 kB)\n",
            "\u001b[2K   \u001b[90m━━━━━━━━━━━━━━━━━━━━━━━━━━━━━━━━━━━━━━━━\u001b[0m \u001b[32m131.4/131.4 kB\u001b[0m \u001b[31m3.1 MB/s\u001b[0m eta \u001b[36m0:00:00\u001b[0m\n",
            "\u001b[?25hInstalling collected packages: groq\n",
            "Successfully installed groq-0.31.0\n"
          ]
        }
      ]
    },
    {
      "cell_type": "code",
      "source": [
        "pip install requests"
      ],
      "metadata": {
        "colab": {
          "base_uri": "https://localhost:8080/"
        },
        "id": "ymGssEbJi8NG",
        "outputId": "b181dd89-a2c0-4b5d-d929-ac7633f578f9",
        "collapsed": true
      },
      "execution_count": 2,
      "outputs": [
        {
          "output_type": "stream",
          "name": "stdout",
          "text": [
            "Requirement already satisfied: requests in /usr/local/lib/python3.12/dist-packages (2.32.4)\n",
            "Requirement already satisfied: charset_normalizer<4,>=2 in /usr/local/lib/python3.12/dist-packages (from requests) (3.4.3)\n",
            "Requirement already satisfied: idna<4,>=2.5 in /usr/local/lib/python3.12/dist-packages (from requests) (3.10)\n",
            "Requirement already satisfied: urllib3<3,>=1.21.1 in /usr/local/lib/python3.12/dist-packages (from requests) (2.5.0)\n",
            "Requirement already satisfied: certifi>=2017.4.17 in /usr/local/lib/python3.12/dist-packages (from requests) (2025.8.3)\n"
          ]
        }
      ]
    },
    {
      "cell_type": "markdown",
      "source": [
        "1. Setting up Autorization\n",
        "2. add the end point url\n",
        "3. add the body"
      ],
      "metadata": {
        "id": "cJtje7nQAd0y"
      }
    },
    {
      "cell_type": "code",
      "execution_count": 4,
      "metadata": {
        "colab": {
          "base_uri": "https://localhost:8080/"
        },
        "id": "fnYZupvAV9U9",
        "outputId": "51f87aa8-4eed-45fe-d207-56b854e9301e"
      },
      "outputs": [
        {
          "output_type": "stream",
          "name": "stdout",
          "text": [
            "Artificial general intelligence (AGI) refers to a type of artificial intelligence (AI) that possesses the ability to understand, learn, and apply knowledge across a wide range of tasks, similar to human intelligence. In other words, AGI is a hypothetical AI system that can perform any intellectual task that a human being can do.\n",
            "\n",
            "AGI would have several key characteristics:\n",
            "\n",
            "1. **Broad intelligence**: AGI would be able to apply its intelligence to various tasks, such as reasoning, problem-solving, learning, and understanding natural language.\n",
            "2. **General knowledge**: AGI would have a broad and deep knowledge base, similar to human understanding, and be able to draw connections between different pieces of information.\n",
            "3. **Transfer learning**: AGI would be able to apply its knowledge and skills learned in one domain to another, similar to how humans do.\n",
            "4. **Reasoning and decision-making**: AGI would be able to reason, make decisions, and apply its knowledge to solve complex problems.\n",
            "\n",
            "AGI would be a significant departure from current AI systems, which are typically specialized to perform a specific task, such as:\n",
            "\n",
            "* Chatbots that respond to natural language input\n",
            "* Image recognition systems that can identify specific objects\n",
            "* Expert systems that mimic a human expert in a specific domain\n",
            "\n",
            "While we have made significant progress in AI research, achieving AGI remains a long-term goal for many experts in the field. Some challenges to achieving AGI include:\n",
            "\n",
            "* Developing a robust and scalable approach to learning and knowledge acquisition\n",
            "* Creating a system that can handle ambiguity, uncertainty, and context-dependent reasoning\n",
            "* Ensuring that AGI systems align with human values and ethics\n",
            "\n",
            "Several experts and researchers estimate that achieving AGI could take decades or even centuries. However, the potential benefits of AGI, such as enhancing productivity, improving healthcare outcomes, and solving complex global problems, make it a fascinating and ambitious area of research.\n"
          ]
        }
      ],
      "source": [
        "import os\n",
        "import requests\n",
        "from google.colab import userdata\n",
        "\n",
        "\n",
        "groq_api_key = userdata.get(\"GROQ_API_KEY\")\n",
        "\n",
        "# 1 Define the URL for the Groq API endpoint\n",
        "url = \"https://api.groq.com/openai/v1/chat/completions\"\n",
        "\n",
        "#2  Set the headers for the API request\n",
        "headers = {\n",
        "    \"Authorization\": f\"Bearer {groq_api_key}\"\n",
        "}\n",
        "\n",
        "# 3 Define the body for the API request\n",
        "body = {\n",
        "    \"model\": \"llama-3.1-8b-instant\",\n",
        "    \"messages\": [\n",
        "        {\n",
        "            \"role\": \"user\",\n",
        "            \"content\": \"What is artificial general intelligence?\"\n",
        "        }\n",
        "    ]\n",
        "}\n",
        "\n",
        "# Send a POST request to the Groq API\n",
        "response = requests.post(url, headers=headers, json=body)\n",
        "\n",
        "# Check if the request was successful\n",
        "if response.status_code == 200:\n",
        "    print(response.json()['choices'][0]['message']['content'])\n",
        "else:\n",
        "    print(\"Error:\", response.json())\n"
      ]
    },
    {
      "cell_type": "code",
      "source": [
        "# Install required packages\n",
        "\n",
        "\n",
        "import os\n",
        "import requests\n",
        "import gradio as gr\n",
        "\n",
        "from google.colab import userdata  # Secure storage for API keys in Colab\n",
        "\n",
        "groq_api_key = userdata.get(\"GROQ_API_KEY\")\n",
        "\n",
        "# Define the URL for the Groq API endpoint\n",
        "url = \"https://api.groq.com/openai/v1/chat/completions\"\n",
        "\n",
        "# Set the headers for the API request\n",
        "headers = {\n",
        "    \"Authorization\": f\"Bearer {groq_api_key}\"\n",
        "}\n",
        "\n",
        "# Function to interact with Groq API\n",
        "def chat_with_groq(user_input):\n",
        "    body = {\n",
        "        \"model\": \"llama-3.1-8b-instant\",\n",
        "        \"messages\": [\n",
        "            {\"role\": \"user\", \"content\": user_input}\n",
        "        ]\n",
        "    }\n",
        "\n",
        "    response = requests.post(url, headers=headers, json=body)\n",
        "\n",
        "    if response.status_code == 200:\n",
        "        return response.json()['choices'][0]['message']['content']\n",
        "    else:\n",
        "        return f\"Error: {response.json()}\"\n",
        "\n",
        "# Create Gradio interface\n",
        "interface = gr.Interface(\n",
        "    fn=chat_with_groq,\n",
        "    inputs=gr.Textbox(lines=2, placeholder=\"Ask me anything...\"),\n",
        "    outputs=gr.Textbox(),\n",
        "    title=\"DDS Free MasterClass\",\n",
        "    description=\"Type your question below and get a response powered by Groq's Llama 3.1-8B model.\"\n",
        ")\n",
        "\n",
        "# Launch Gradio app\n",
        "interface.launch()\n"
      ],
      "metadata": {
        "colab": {
          "base_uri": "https://localhost:8080/",
          "height": 645
        },
        "id": "D627mfvelNaO",
        "outputId": "fba940ea-5351-481b-88b6-2c64d98d7ebc"
      },
      "execution_count": null,
      "outputs": [
        {
          "output_type": "stream",
          "name": "stdout",
          "text": [
            "It looks like you are running Gradio on a hosted Jupyter notebook, which requires `share=True`. Automatically setting `share=True` (you can turn this off by setting `share=False` in `launch()` explicitly).\n",
            "\n",
            "Colab notebook detected. To show errors in colab notebook, set debug=True in launch()\n",
            "* Running on public URL: https://adb1e17107492c11da.gradio.live\n",
            "\n",
            "This share link expires in 1 week. For free permanent hosting and GPU upgrades, run `gradio deploy` from the terminal in the working directory to deploy to Hugging Face Spaces (https://huggingface.co/spaces)\n"
          ]
        },
        {
          "output_type": "display_data",
          "data": {
            "text/plain": [
              "<IPython.core.display.HTML object>"
            ],
            "text/html": [
              "<div><iframe src=\"https://adb1e17107492c11da.gradio.live\" width=\"100%\" height=\"500\" allow=\"autoplay; camera; microphone; clipboard-read; clipboard-write;\" frameborder=\"0\" allowfullscreen></iframe></div>"
            ]
          },
          "metadata": {}
        },
        {
          "output_type": "execute_result",
          "data": {
            "text/plain": []
          },
          "metadata": {},
          "execution_count": 5
        }
      ]
    },
    {
      "cell_type": "code",
      "source": [
        "#for hugging face  u need to set env seperately and save a app.py file\n",
        "\n",
        "import os\n",
        "import requests\n",
        "import gradio as gr\n",
        "\n",
        "# Retrieve the API key from the environment variable\n",
        "groq_api_key = os.getenv(\"GROQ_API_KEY\")\n",
        "\n",
        "\n",
        "# Define the API endpoint and headers\n",
        "url = \"https://api.groq.com/openai/v1/chat/completions\"\n",
        "headers = {\"Authorization\": f\"Bearer {groq_api_key}\"}\n",
        "\n",
        "# Function to interact with Groq API\n",
        "def chat_with_groq(user_input):\n",
        "    body = {\n",
        "        \"model\": \"llama-3.1-8b-instant\",\n",
        "        \"messages\": [{\"role\": \"user\", \"content\": user_input}]\n",
        "    }\n",
        "\n",
        "    response = requests.post(url, headers=headers, json=body)\n",
        "\n",
        "    if response.status_code == 200:\n",
        "        return response.json()['choices'][0]['message']['content']\n",
        "    else:\n",
        "        return f\"Error: {response.json()}\"\n",
        "\n",
        "# Create Gradio interface\n",
        "interface = gr.Interface(\n",
        "    fn=chat_with_groq,\n",
        "    inputs=gr.Textbox(lines=2, placeholder=\"Ask me anything...\"),\n",
        "    outputs=gr.Textbox(),\n",
        "    title=\"Chat with Groq AI (Llama 3.1-8B)\",\n",
        "    description=\"Type your question below and get a response powered by Groq's Llama 3.1-8B model.\"\n",
        ")\n",
        "\n",
        "# Launch Gradio app\n",
        "if __name__ == \"__main__\":\n",
        "    interface.launch()\n",
        "\n"
      ],
      "metadata": {
        "id": "M0o0K7pXnZKh"
      },
      "execution_count": null,
      "outputs": []
    },
    {
      "cell_type": "code",
      "source": [
        "##prompt template\n",
        "\n",
        "\n",
        "import os\n",
        "import requests\n",
        "from google.colab import userdata  # Secure storage for API keys in Colab\n",
        "\n",
        "# Get the Groq API key securely (use userdata in Colab)\n",
        "groq_api_key = userdata.get(\"GROQ_API_KEY\")  # Store using: userdata.set(\"GROQ_API_KEY\", \"your_api_key\")\n",
        "\n",
        "if not groq_api_key:\n",
        "    raise ValueError(\"GROQ_API_KEY not found! Set it using userdata.set('GROQ_API_KEY', 'your_api_key')\")\n",
        "\n",
        "# Define the Groq API endpoint\n",
        "url = \"https://api.groq.com/openai/v1/chat/completions\"\n",
        "\n",
        "# Set headers for the API request\n",
        "headers = {\n",
        "    \"Authorization\": f\"Bearer {groq_api_key}\"\n",
        "}\n",
        "\n",
        "# Define a prompt template\n",
        "prompt_template = \"\"\"You are a helpful assistant with expertise in Telecomunication\n",
        "User Query: {query}\n",
        "Please provide a detailed, beginner-friendly response.\"\"\"\n",
        "\n",
        "# Function to generate a response using the Groq API\n",
        "def ask_groq(query):\n",
        "    prompt = prompt_template.format(query=query)\n",
        "\n",
        "    body = {\n",
        "        \"model\": \"llama-3.1-8b-instant\",\n",
        "        \"messages\": [\n",
        "            {\n",
        "                \"role\": \"user\",\n",
        "                \"content\": prompt\n",
        "            }\n",
        "        ]\n",
        "    }\n",
        "\n",
        "    response = requests.post(url, headers=headers, json=body)\n",
        "\n",
        "    if response.status_code == 200:\n",
        "        return response.json()['choices'][0]['message']['content']\n",
        "    else:\n",
        "        return f\"Error: {response.status_code} - {response.text}\"\n"
      ],
      "metadata": {
        "id": "kLDq9V35kg5a"
      },
      "execution_count": 5,
      "outputs": []
    },
    {
      "cell_type": "code",
      "source": [
        "response_text = ask_groq(\"What is different plans in omantel?\")\n",
        "print(response_text)\n",
        ""
      ],
      "metadata": {
        "id": "_YAyF11AlGYQ",
        "outputId": "80943f66-28c2-40b7-e5c6-d479de335648",
        "colab": {
          "base_uri": "https://localhost:8080/"
        }
      },
      "execution_count": 6,
      "outputs": [
        {
          "output_type": "stream",
          "name": "stdout",
          "text": [
            "Omantel is a popular telecommunications service provider in Oman, offering a range of plans to suit different needs and budgets. As a helpful assistant, I'd be happy to break down the different plans offered by Omantel into easy-to-understand categories.\n",
            "\n",
            "**1. Prepaid Plans**\n",
            "\n",
            "Prepaid plans are a great option for those who want to pay as they go. With Omantel's prepaid plans, you can top up your credit and use it to make calls, send texts, and access data. Here are a few prepaid plans:\n",
            "\n",
            "- **Daily Plans**: These plans offer a limited amount of internet and calling minutes for a day. For example, the Daily Unlimited Plan costs RO 1 (approximately $2.60 USD) per day and includes 1 GB of data and unlimited minutes.\n",
            "- **Weekly Plans**: These plans offer more data and calling minutes for a week. For example, the Weekly Unlimited Plan costs RO 6 (approximately $15.60 USD) per week and includes 5 GB of data and unlimited minutes.\n",
            "- **Monthly Plans**: These plans offer even more data and calling minutes for a month. For example, the Monthly Unlimited Plan costs RO 25 (approximately $65 USD) per month and includes 15 GB of data and unlimited minutes.\n",
            "\n",
            "**2. Postpaid Plans**\n",
            "\n",
            "Postpaid plans are a good option for those who want a set amount of data and calling minutes per month. With Omantel's postpaid plans, you'll pay a fixed amount each month, and any unused data or calls will be carried over to the next month. Here are a few postpaid plans:\n",
            "\n",
            "- **Standard Postpaid Plans**: These plans offer a set amount of data and calling minutes per month. For example, the Standard Postpaid Plan costs RO 30 (approximately $78 USD) per month and includes 10 GB of data and 200 minutes.\n",
            "- **Unlimited Postpaid Plans**: These plans offer unlimited data, calls, and SMS. For example, the Unlimited Postpaid Plan costs RO 45 (approximately $117 USD) per month and includes unlimited data, calls, and SMS.\n",
            "- **Value Added Service (VAS) Plans**: These plans offer additional services like international calls, data roaming, and more. For example, the VAS Plan costs RO 20 (approximately $52 USD) per month and includes additional data, international calls, and other benefits.\n",
            "\n",
            "**3. Special Plans**\n",
            "\n",
            "Omantel also offers special plans for specific needs or situations, such as:\n",
            "\n",
            "- **Senior Citizen Plan**: This plan offers discounted rates for senior citizens (60+ years old).\n",
            "- **Student Plan**: This plan offers discounted rates for students with a valid student ID.\n",
            "- **Business Plan**: This plan offers customized plans for businesses with high data and calling needs.\n",
            "\n",
            "**4. Bundle Plans**\n",
            "\n",
            "Omantel also offers bundle plans that combine different services, such as:\n",
            "\n",
            "- **Omantel+**: This plan includes a TV package, unlimited data, and a set of calls.\n",
            "- **Omantel+ Extra**: This plan includes a TV package, unlimited data, and a set of calls, plus additional services like international calls and data roaming.\n",
            "\n",
            "These are the main types of plans offered by Omantel. It's always a good idea to check the Omantel website or visit a store to get the latest information and to choose a plan that best suits your needs.\n"
          ]
        }
      ]
    }
  ]
}